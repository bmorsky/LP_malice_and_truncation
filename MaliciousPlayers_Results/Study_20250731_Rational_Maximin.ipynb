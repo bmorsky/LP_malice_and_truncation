{
 "cells": [
  {
   "cell_type": "code",
   "execution_count": 109,
   "id": "e0d69674",
   "metadata": {},
   "outputs": [],
   "source": [
    "import numpy as np; import pandas as pd\n",
    "from typing import Literal, Tuple\n",
    "import random as rd\n",
    "from matplotlib import pyplot as plt\n",
    "import Toolbox_20250801 as toolbox"
   ]
  },
  {
   "cell_type": "code",
   "execution_count": 110,
   "id": "09927a18",
   "metadata": {},
   "outputs": [
    {
     "name": "stdout",
     "output_type": "stream",
     "text": [
      "[[-62  44  62]\n",
      " [-42   4  62]\n",
      " [ 24 -77 -68]\n",
      " [ 28  80  53]]\n",
      "28.0\n",
      "-77\n"
     ]
    }
   ],
   "source": [
    "A = np.matrix(np.random.randint(-100, 100, (4, 3)))\n",
    "maximinValue_row = toolbox.maximin(A, \"row\")[0]\n",
    "worstValue_row = A.min()\n",
    "print(A, maximinValue_row, worstValue_row, sep = '\\n')"
   ]
  },
  {
   "cell_type": "code",
   "execution_count": 111,
   "id": "b9999b1c",
   "metadata": {},
   "outputs": [
    {
     "name": "stdout",
     "output_type": "stream",
     "text": [
      "[[ 13 -33 -63]\n",
      " [-76 -90  34]\n",
      " [-30 -63 -39]\n",
      " [ 85 -33 -24]]\n",
      "-33.47899159663867\n",
      "[[0.61344538 0.         0.38655462]]\n"
     ]
    }
   ],
   "source": [
    "B = np.matrix(np.random.randint(-100, 100, (4, 3)))\n",
    "maximinValue_col, maximinStrategy_col = toolbox.maximin(B, \"column\")\n",
    "print(B, maximinValue_col, maximinStrategy_col.T, sep = '\\n')"
   ]
  },
  {
   "cell_type": "code",
   "execution_count": 118,
   "id": "ce8004b4",
   "metadata": {},
   "outputs": [
    {
     "name": "stdout",
     "output_type": "stream",
     "text": [
      "[[-62, 44, 62], [-42, 4, 62], [24, -77, -68], [28, 80, 53]]\n"
     ]
    }
   ],
   "source": [
    "print(A.tolist())"
   ]
  },
  {
   "cell_type": "code",
   "execution_count": 119,
   "id": "9b4f34f9",
   "metadata": {},
   "outputs": [
    {
     "name": "stdout",
     "output_type": "stream",
     "text": [
      "[[13, -33, -63], [-76, -90, 34], [-30, -63, -39], [85, -33, -24]]\n"
     ]
    }
   ],
   "source": [
    "print(B.tolist())"
   ]
  },
  {
   "cell_type": "code",
   "execution_count": 112,
   "id": "0f03283b",
   "metadata": {},
   "outputs": [
    {
     "name": "stdout",
     "output_type": "stream",
     "text": [
      "0.22016640581967095 -53.88252738893455\n"
     ]
    }
   ],
   "source": [
    "riskAversion_row = rd.random()\n",
    "minimumRequiredValue_row = riskAversion_row*maximinValue_row + (1-riskAversion_row)*worstValue_row\n",
    "print(riskAversion_row, minimumRequiredValue_row)"
   ]
  },
  {
   "cell_type": "code",
   "execution_count": 113,
   "id": "cec3b868",
   "metadata": {},
   "outputs": [
    {
     "name": "stdout",
     "output_type": "stream",
     "text": [
      "               Vertex_0  Vertex_1  Vertex_2  Vertex_3  Vertex_4  Vertex_5  \\\n",
      "Probability_0  0.909806  0.905611  0.594126       0.0       0.0  0.000000   \n",
      "Probability_1  0.000000  0.000000  0.405874       0.0       1.0  0.285401   \n",
      "Probability_2  0.000000  0.094389  0.000000       0.0       0.0  0.714599   \n",
      "Probability_3  0.090194  0.000000  0.000000       1.0       0.0  0.000000   \n",
      "\n",
      "               Vertex_6  Vertex_7  \n",
      "Probability_0  0.000000  0.191053  \n",
      "Probability_1  0.000000  0.000000  \n",
      "Probability_2  0.852755  0.808947  \n",
      "Probability_3  0.147245  0.000000  \n"
     ]
    }
   ],
   "source": [
    "strategySpace_row = toolbox.thresholdVertices(A, minimumRequiredValue_row, \"row\")\n",
    "print(strategySpace_row)"
   ]
  },
  {
   "cell_type": "code",
   "execution_count": 114,
   "id": "f2680a22",
   "metadata": {},
   "outputs": [
    {
     "name": "stdout",
     "output_type": "stream",
     "text": [
      "[[0.90980586 0.90561078 0.59412637 0.         0.         0.\n",
      "  0.         0.19105349]\n",
      " [0.         0.         0.40587363 0.         1.         0.2854009\n",
      "  0.         0.        ]\n",
      " [0.         0.09438922 0.         0.         0.         0.7145991\n",
      "  0.85275495 0.80894651]\n",
      " [0.09019414 0.         0.         1.         0.         0.\n",
      "  0.14724505 0.        ]]\n"
     ]
    }
   ],
   "source": [
    "P = np.matrix(strategySpace_row.to_numpy())\n",
    "print(P)"
   ]
  },
  {
   "cell_type": "code",
   "execution_count": 115,
   "id": "67d8fb15",
   "metadata": {},
   "outputs": [
    {
     "name": "stdout",
     "output_type": "stream",
     "text": [
      "True\n"
     ]
    }
   ],
   "source": [
    "print(A.shape == B.shape)"
   ]
  },
  {
   "cell_type": "code",
   "execution_count": 116,
   "id": "ee5970ea",
   "metadata": {},
   "outputs": [
    {
     "name": "stdout",
     "output_type": "stream",
     "text": [
      "            C_0         C_1         C_2\n",
      "R_0   (-62, 13)   (44, -33)   (62, -63)\n",
      "R_1  (-42, -76)    (4, -90)    (62, 34)\n",
      "R_2   (24, -30)  (-77, -63)  (-68, -39)\n",
      "R_3    (28, 85)   (80, -33)   (53, -24)\n",
      "-53.88252738893455\n"
     ]
    }
   ],
   "source": [
    "print(toolbox.Game.fromMatrices(player_1_payoff_matrix = A, player_2_payoff_matrix = B, transposed = True))\n",
    "print(minimumRequiredValue_row)"
   ]
  },
  {
   "cell_type": "code",
   "execution_count": 117,
   "id": "be824da4",
   "metadata": {},
   "outputs": [
    {
     "name": "stdout",
     "output_type": "stream",
     "text": [
      "-31.734941149827605 [[0.54357914 0.         0.45642086]]\n",
      "-33.47899159663867 [[0.61344538 0.         0.38655462]]\n"
     ]
    }
   ],
   "source": [
    "enhancedPayoff_col, enhancedStrategy_col = toolbox.maximin(P.T*B, player = \"column\")\n",
    "print(enhancedPayoff_col, enhancedStrategy_col.T)\n",
    "print(maximinValue_col, maximinStrategy_col.T)"
   ]
  }
 ],
 "metadata": {
  "kernelspec": {
   "display_name": "Python 3",
   "language": "python",
   "name": "python3"
  },
  "language_info": {
   "codemirror_mode": {
    "name": "ipython",
    "version": 3
   },
   "file_extension": ".py",
   "mimetype": "text/x-python",
   "name": "python",
   "nbconvert_exporter": "python",
   "pygments_lexer": "ipython3",
   "version": "3.9.8"
  }
 },
 "nbformat": 4,
 "nbformat_minor": 5
}
