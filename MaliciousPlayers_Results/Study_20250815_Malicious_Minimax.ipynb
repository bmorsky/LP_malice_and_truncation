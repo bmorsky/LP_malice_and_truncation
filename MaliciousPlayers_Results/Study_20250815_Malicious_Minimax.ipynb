{
 "cells": [
  {
   "cell_type": "code",
   "execution_count": 336,
   "id": "e0d69674",
   "metadata": {},
   "outputs": [],
   "source": [
    "import numpy as np; import pandas as pd\n",
    "from typing import Literal, Tuple\n",
    "import random as rd\n",
    "from scipy.optimize import linprog\n",
    "import Toolbox_20250801 as toolbox"
   ]
  },
  {
   "cell_type": "code",
   "execution_count": 337,
   "id": "09927a18",
   "metadata": {},
   "outputs": [
    {
     "name": "stdout",
     "output_type": "stream",
     "text": [
      "[[ 16  17 -31]\n",
      " [-45 -13  22]\n",
      " [ 41  18  22]\n",
      " [-73  79  66]]\n",
      "26.017142857142844\n",
      "-73\n"
     ]
    }
   ],
   "source": [
    "A = np.matrix(np.random.randint(-100, 100, (4, 3)))\n",
    "maximinValue_row = toolbox.maximin(A, \"row\")[0]\n",
    "worstValue_row = A.min()\n",
    "print(A, maximinValue_row, worstValue_row, sep = '\\n')"
   ]
  },
  {
   "cell_type": "code",
   "execution_count": 338,
   "id": "b9999b1c",
   "metadata": {},
   "outputs": [
    {
     "name": "stdout",
     "output_type": "stream",
     "text": [
      "[[-41  15  83]\n",
      " [-19  55 -43]\n",
      " [-47  67 -25]\n",
      " [ 92  54  57]]\n",
      "31.38554216867469\n",
      "[[0.         0.75903614 0.24096386]]\n"
     ]
    }
   ],
   "source": [
    "B = np.matrix(np.random.randint(-100, 100, (4, 3)))\n",
    "maximinValue_col, maximinStrategy_col = toolbox.maximin(B, \"column\")\n",
    "print(B, maximinValue_col, maximinStrategy_col.T, sep = '\\n')"
   ]
  },
  {
   "cell_type": "code",
   "execution_count": 339,
   "id": "0f03283b",
   "metadata": {},
   "outputs": [
    {
     "name": "stdout",
     "output_type": "stream",
     "text": [
      "0.10346885063925715 -62.7548100349883\n"
     ]
    }
   ],
   "source": [
    "riskAversion_row = rd.random()\n",
    "minimumRequiredValue_row = riskAversion_row*maximinValue_row + (1-riskAversion_row)*worstValue_row\n",
    "print(riskAversion_row, minimumRequiredValue_row)"
   ]
  },
  {
   "cell_type": "code",
   "execution_count": 340,
   "id": "cec3b868",
   "metadata": {},
   "outputs": [
    {
     "name": "stdout",
     "output_type": "stream",
     "text": [
      "               Vertex_0  Vertex_1  Vertex_2  Vertex_3  Vertex_4  Vertex_5\n",
      "Probability_0       0.0       0.0       1.0  0.115114    0.0000   0.00000\n",
      "Probability_1       0.0       1.0       0.0  0.000000    0.3659   0.00000\n",
      "Probability_2       1.0       0.0       0.0  0.000000    0.0000   0.08987\n",
      "Probability_3       0.0       0.0       0.0  0.884886    0.6341   0.91013\n"
     ]
    }
   ],
   "source": [
    "strategySpace_row = toolbox.thresholdVertices(A, minimumRequiredValue_row, \"row\")\n",
    "print(strategySpace_row)"
   ]
  },
  {
   "cell_type": "code",
   "execution_count": 341,
   "id": "f2680a22",
   "metadata": {},
   "outputs": [
    {
     "name": "stdout",
     "output_type": "stream",
     "text": [
      "[[0.         0.         1.         0.11511449 0.         0.        ]\n",
      " [0.         1.         0.         0.         0.36589964 0.        ]\n",
      " [1.         0.         0.         0.         0.         0.08987009]\n",
      " [0.         0.         0.         0.88488551 0.63410036 0.91012991]]\n"
     ]
    }
   ],
   "source": [
    "P = np.matrix(strategySpace_row.to_numpy())\n",
    "print(P)"
   ]
  },
  {
   "cell_type": "code",
   "execution_count": 342,
   "id": "be824da4",
   "metadata": {},
   "outputs": [
    {
     "name": "stdout",
     "output_type": "stream",
     "text": [
      "31.38554216867469 [[0.         0.75903614 0.24096386]]\n",
      "31.38554216867469 [[0.         0.75903614 0.24096386]]\n"
     ]
    }
   ],
   "source": [
    "enhancedPayoff_col, enhancedStrategy_col = toolbox.maximin(P.T*B, player = \"column\")\n",
    "print(enhancedPayoff_col, enhancedStrategy_col.T)\n",
    "print(maximinValue_col, maximinStrategy_col.T)\n",
    "# Even with the same strategy, the actual payoff may be enhanced, \n",
    "# due to the opponent is limited from playing the worst pure strategy"
   ]
  },
  {
   "cell_type": "code",
   "execution_count": 343,
   "id": "6b1e76d6",
   "metadata": {},
   "outputs": [],
   "source": [
    "def malicious(  selfPayoffMatrix:np.matrix,\n",
    "                selfMinimumRequiredPayoff:np.float64,\n",
    "                opponentPayoffMatrix:np.matrix,\n",
    "                selfPlayerType:Literal[\"row\", \"column\"]) -> Tuple[np.float64, np.matrix]:\n",
    "    A, B = selfPayoffMatrix, opponentPayoffMatrix\n",
    "    if selfPlayerType.lower() == \"row\": A, B = A.T, B.T\n",
    "    U_0 = np.matrix(np.ones_like(A))*selfMinimumRequiredPayoff - A\n",
    "    k = abs(B.min())+1; U_1 = B+k\n",
    "    c = -np.matrix(np.ones((A.shape[1])))\n",
    "    b_0 = np.matrix(np.zeros((U_0.shape[0], 1)))\n",
    "    b_1 = np.matrix(np.ones((U_1.shape[0], 1)))\n",
    "    U = np.vstack((U_0, U_1)); b = np.vstack((b_0, b_1))\n",
    "    bounds = [(0, None)] * U.shape[1]\n",
    "    result = linprog(c = c, A_ub = U, b_ub = b, bounds = bounds)\n",
    "    if not result.success: print(\"Note that the linear programming was not successful\")\n",
    "    d = result.fun\n",
    "    opponentsPayoff = -d**-1 - k\n",
    "    maliciousStrategy = np.matrix(result.x).T / -d\n",
    "    return opponentsPayoff, maliciousStrategy"
   ]
  },
  {
   "cell_type": "code",
   "execution_count": 344,
   "id": "b6c8625a",
   "metadata": {},
   "outputs": [
    {
     "name": "stdout",
     "output_type": "stream",
     "text": [
      "            C_0        C_1        C_2\n",
      "R_0   (16, -41)   (17, 15)  (-31, 83)\n",
      "R_1  (-45, -19)  (-13, 55)  (22, -43)\n",
      "R_2   (41, -47)   (18, 67)  (22, -25)\n",
      "R_3   (-73, 92)   (79, 54)   (66, 57)\n",
      "-62.7548100349883\n"
     ]
    }
   ],
   "source": [
    "print(toolbox.Game.fromMatrices(player_1_payoff_matrix = A, player_2_payoff_matrix = B, transposed = True))\n",
    "print(minimumRequiredValue_row)"
   ]
  },
  {
   "cell_type": "code",
   "execution_count": 345,
   "id": "dd05afb6",
   "metadata": {},
   "outputs": [
    {
     "name": "stdout",
     "output_type": "stream",
     "text": [
      "31.385542168675 [[0.59036145 0.40963855 0.         0.        ]]\n",
      "31.385542168675 [[0.         0.75903614 0.24096386]]\n"
     ]
    }
   ],
   "source": [
    "opponentsUpperBound, maliciousStrategy = malicious(A, minimumRequiredValue_row, B, \"row\")\n",
    "print(round(opponentsUpperBound, 12), maliciousStrategy.T)\n",
    "print(round(enhancedPayoff_col, 12), enhancedStrategy_col.T)"
   ]
  }
 ],
 "metadata": {
  "kernelspec": {
   "display_name": "Python 3",
   "language": "python",
   "name": "python3"
  },
  "language_info": {
   "codemirror_mode": {
    "name": "ipython",
    "version": 3
   },
   "file_extension": ".py",
   "mimetype": "text/x-python",
   "name": "python",
   "nbconvert_exporter": "python",
   "pygments_lexer": "ipython3",
   "version": "3.9.8"
  }
 },
 "nbformat": 4,
 "nbformat_minor": 5
}
